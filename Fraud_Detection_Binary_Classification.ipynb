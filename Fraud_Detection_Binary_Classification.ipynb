{
 "cells": [
  {
   "cell_type": "markdown",
   "id": "8886a823-dc63-4345-abec-89a80438babe",
   "metadata": {},
   "source": [
    "# Fraud Detection Binary Classification\n",
    "\n",
    "### [dataset](https://www.kaggle.com/datasets/sameerk2004/fraud-detection-dataset)\n",
    "\n",
    "Author: [Kevin Thomas](mailto:ket189@pitt.edu)\n",
    "\n",
    "License: No license information was provided."
   ]
  },
  {
   "cell_type": "markdown",
   "id": "a4760362-7939-4a0c-881d-33084bd658fc",
   "metadata": {},
   "source": [
    "## **Executive Summary**\n",
    "\n",
    "### **Objective**\n",
    "\n",
    "This report presents an analysis of demographic and occupational data focusing on income distribution across professions. Using visualizations and a basic binary classification model, we aimed to explore any patterns or associations within this dataset.\n",
    "\n",
    "### **Data Insights**\n",
    "\n",
    "**1. Income Distribution Analysis**\n",
    "- **Income Distribution:** The histogram with KDE line shows a marginal distribution of income ranging from 0 to 100,000. This distribution is relatively uniform, with consistent counts across income intervals. The smooth, flat KDE line reflects this uniformity, indicating no significant clustering or peaks, which suggests that income is evenly spread throughout the dataset.\n",
    "\n",
    "**2. Profession Distribution Analysis**\n",
    "- **Profession Counts:** The bar chart illustrates similar counts across the professions of doctors, lawyers, and engineers, with a slightly higher count for doctors, followed by lawyers and then engineers. This balance indicates a well-represented sample across these professions, allowing for fair comparison of characteristics within these groups.\n",
    "\n",
    "**3. Income by Profession Analysis**\n",
    "- **Income Comparison Across Professions:** Box plots show similar median income levels across doctors, lawyers, and engineers, with wide interquartile ranges, suggesting variability within each profession but comparable medians. The error bar plot further supports this, with mean incomes closely aligned and overlapping confidence intervals, suggesting minimal differences in average income between professions.\n",
    "\n",
    "### **Model Development and Selection**\n",
    "\n",
    "**Model Evaluation**\n",
    "- **Model Performance:** The selected model achieved an accuracy of 51.35% and an ROC AUC of 51.03%, barely above random guessing, indicating limited predictive utility. The model included six coefficients, but only one—specifically the profession category \"Engineer\"—was statistically significant, with a coefficient of -0.1740 (p-value = 0.0075), suggesting a slight negative association with the target variable. The use of higher-order terms for income did not yield significant results, underscoring the model's lack of predictive strength.\n",
    "\n",
    "### **Implications**\n",
    "\n",
    "The model’s near-random performance underscores its limited practical application, as it fails to provide meaningful predictions or insights. The analysis of income distribution by profession suggests minimal variation across professional categories, and the model’s lack of robust predictive power further confirms that these features do not strongly differentiate the target outcome.\n",
    "\n",
    "### **Recommendations and Next Steps**\n",
    "\n",
    "1. **Improvement of Model Features:** Consider including additional relevant demographic or lifestyle variables to enhance predictive power.\n",
    "2. **Alternative Modeling Approaches:** Explore other algorithms that may be more suited to uncovering subtle relationships within this dataset.\n",
    "3. **Avoid Practical Application:** Due to its low accuracy and ROC AUC, this model should not be used for any decision-making processes.\n",
    "\n",
    "### **Conclusion**\n",
    "\n",
    "This analysis indicates that the current dataset lacks substantial variation in income distribution across the professions of doctors, lawyers, and engineers. The selected model’s low accuracy and ROC AUC further confirm that it is unsuitable for predictive applications. Future analyses with additional features and more refined modeling techniques are recommended. **This model should never be used in production due to its poor predictive performance.**"
   ]
  },
  {
   "cell_type": "markdown",
   "id": "c295cedb-d9a7-428a-bd9b-2e9a6dce3904",
   "metadata": {},
   "source": [
    "## Import Main Modules & Dataset"
   ]
  },
  {
   "cell_type": "code",
   "execution_count": 2,
   "id": "6d2328fd-ea34-4008-a2ab-7f6a59f3416d",
   "metadata": {},
   "outputs": [],
   "source": [
    "import numpy as np\n",
    "import pandas as pd\n",
    "import matplotlib.pyplot as plt\n",
    "import seaborn as sns"
   ]
  },
  {
   "cell_type": "code",
   "execution_count": 3,
   "id": "83453bc1-dbef-42c1-ba1a-79c4623ef5cc",
   "metadata": {},
   "outputs": [],
   "source": [
    "import itertools"
   ]
  },
  {
   "cell_type": "code",
   "execution_count": 4,
   "id": "177ecfe2-b208-48af-a7ad-bd6140d47cd3",
   "metadata": {},
   "outputs": [],
   "source": [
    "import statsmodels.formula.api as smf"
   ]
  },
  {
   "cell_type": "code",
   "execution_count": 5,
   "id": "1b0272db-3499-47a8-9026-2376b7fcd8eb",
   "metadata": {},
   "outputs": [],
   "source": [
    "df = pd.read_csv('data2.csv')"
   ]
  },
  {
   "cell_type": "markdown",
   "id": "9d48a0bd-a76b-4ed2-a048-37766565393b",
   "metadata": {},
   "source": [
    "## Perform Basic Analysis"
   ]
  },
  {
   "cell_type": "code",
   "execution_count": 6,
   "id": "e7c079a8-38d1-45c1-93dd-a188265451bf",
   "metadata": {},
   "outputs": [
    {
     "data": {
      "text/plain": [
       "(10000, 6)"
      ]
     },
     "execution_count": 6,
     "metadata": {},
     "output_type": "execute_result"
    }
   ],
   "source": [
    "df.shape"
   ]
  },
  {
   "cell_type": "code",
   "execution_count": 7,
   "id": "1352ca1d-c295-450a-8df8-8a655d16fccb",
   "metadata": {},
   "outputs": [
    {
     "data": {
      "text/plain": [
       "Profession            object\n",
       "Income                 int64\n",
       "Credit_card_number     int64\n",
       "Expiry                object\n",
       "Security_code          int64\n",
       "Fraud                  int64\n",
       "dtype: object"
      ]
     },
     "execution_count": 7,
     "metadata": {},
     "output_type": "execute_result"
    }
   ],
   "source": [
    "df.dtypes"
   ]
  },
  {
   "cell_type": "code",
   "execution_count": 8,
   "id": "dc290fb5-895e-4f23-9dfb-4cadfef49ef8",
   "metadata": {},
   "outputs": [
    {
     "name": "stdout",
     "output_type": "stream",
     "text": [
      "Profession\n",
      "DOCTOR      3379\n",
      "LAWYER      3357\n",
      "ENGINEER    3264\n",
      "Name: count, dtype: int64\n",
      "\n",
      "Income\n",
      "21212    4\n",
      "48497    3\n",
      "99555    3\n",
      "29063    3\n",
      "63989    3\n",
      "        ..\n",
      "70496    1\n",
      "70397    1\n",
      "19876    1\n",
      "24324    1\n",
      "94529    1\n",
      "Name: count, Length: 9499, dtype: int64\n",
      "\n",
      "Credit_card_number\n",
      "3515418493460774    1\n",
      "5561163042885752    1\n",
      "5342120228524957    1\n",
      "30211726221028      1\n",
      "6011001678278898    1\n",
      "                   ..\n",
      "180069799453110     1\n",
      "6558311033569777    1\n",
      "6011792095647646    1\n",
      "213148105275176     1\n",
      "4906715586330631    1\n",
      "Name: count, Length: 10000, dtype: int64\n",
      "\n",
      "Expiry\n",
      "01/30    111\n",
      "03/26    107\n",
      "10/25    106\n",
      "12/24    103\n",
      "05/34    102\n",
      "        ... \n",
      "09/27     65\n",
      "11/24     65\n",
      "02/27     63\n",
      "02/29     54\n",
      "11/34     21\n",
      "Name: count, Length: 121, dtype: int64\n",
      "\n",
      "Security_code\n",
      "259     20\n",
      "846     19\n",
      "421     19\n",
      "506     18\n",
      "930     17\n",
      "        ..\n",
      "8548     1\n",
      "9546     1\n",
      "4057     1\n",
      "3371     1\n",
      "5898     1\n",
      "Name: count, Length: 1699, dtype: int64\n",
      "\n",
      "Fraud\n",
      "1    5016\n",
      "0    4984\n",
      "Name: count, dtype: int64\n",
      "\n"
     ]
    }
   ],
   "source": [
    "_ = [print(f'{df[column].value_counts()}\\n') for column in df.columns]"
   ]
  },
  {
   "cell_type": "code",
   "execution_count": 9,
   "id": "ccf84544-539f-4852-8841-9c79ac5de2c9",
   "metadata": {},
   "outputs": [
    {
     "data": {
      "text/plain": [
       "Profession                3\n",
       "Income                 9499\n",
       "Credit_card_number    10000\n",
       "Expiry                  121\n",
       "Security_code          1699\n",
       "Fraud                     2\n",
       "dtype: int64"
      ]
     },
     "execution_count": 9,
     "metadata": {},
     "output_type": "execute_result"
    }
   ],
   "source": [
    "df.nunique()"
   ]
  },
  {
   "cell_type": "markdown",
   "id": "24e31c64-27ac-4906-9fed-dcfcf006f26a",
   "metadata": {},
   "source": [
    "## Drop Unused Variables"
   ]
  },
  {
   "cell_type": "code",
   "execution_count": 10,
   "id": "7244d60a-692d-4638-9e09-6c14c2b33eed",
   "metadata": {},
   "outputs": [],
   "source": [
    "df.drop(['Credit_card_number',\n",
    "         'Expiry',\n",
    "         'Security_code'], \n",
    "        axis=1, \n",
    "        inplace=True)"
   ]
  },
  {
   "cell_type": "markdown",
   "id": "2aaa61bb-7752-4092-8b50-cfa2ec571cf9",
   "metadata": {},
   "source": [
    "## Verify/Handle Missing Values "
   ]
  },
  {
   "cell_type": "code",
   "execution_count": 11,
   "id": "9a5ca5c7-ed7c-4e03-b436-2f0db0a37ee8",
   "metadata": {},
   "outputs": [
    {
     "data": {
      "text/plain": [
       "Profession    0\n",
       "Income        0\n",
       "Fraud         0\n",
       "dtype: int64"
      ]
     },
     "execution_count": 11,
     "metadata": {},
     "output_type": "execute_result"
    }
   ],
   "source": [
    "df.isna().sum()"
   ]
  },
  {
   "cell_type": "markdown",
   "id": "cb8e8352-3c15-469c-8783-d1e33d64ee7c",
   "metadata": {},
   "source": [
    "## Create Input & Output Vars"
   ]
  },
  {
   "cell_type": "code",
   "execution_count": 15,
   "id": "532171b3-774b-4dda-8256-4a77c7edcd8a",
   "metadata": {},
   "outputs": [
    {
     "data": {
      "text/plain": [
       "Profession    object\n",
       "Income         int64\n",
       "Fraud          int64\n",
       "dtype: object"
      ]
     },
     "execution_count": 15,
     "metadata": {},
     "output_type": "execute_result"
    }
   ],
   "source": [
    "df.dtypes"
   ]
  },
  {
   "cell_type": "code",
   "execution_count": 18,
   "id": "6b5d21cb-f1a4-4747-a5a6-4c7c80a9aee3",
   "metadata": {},
   "outputs": [],
   "source": [
    "cat_input_vars = ['Profession']"
   ]
  },
  {
   "cell_type": "code",
   "execution_count": 19,
   "id": "e25bb362-8517-485f-9b12-ec2028dcfa28",
   "metadata": {},
   "outputs": [],
   "source": [
    "cont_input_vars = ['Income']"
   ]
  },
  {
   "cell_type": "code",
   "execution_count": 20,
   "id": "80dd8782-cc2a-4469-a444-6214a6d9d503",
   "metadata": {},
   "outputs": [],
   "source": [
    "target = 'Fraud'"
   ]
  },
  {
   "cell_type": "markdown",
   "id": "8a4e0062-18d2-4558-9ea1-f4660c3dfbb5",
   "metadata": {},
   "source": [
    "## Exploratory Data Analysis"
   ]
  },
  {
   "cell_type": "markdown",
   "id": "474b2dd9-786b-49d3-9693-3e5771023210",
   "metadata": {},
   "source": [
    "### Marginal Distributions Continuous Variables: Histograms and Density Plots\n",
    "* The histogram with KDE line displays the marginal distribution of income across a range from 0 to 100,000. The distribution appears relatively uniform, as the counts remain fairly consistent across income intervals, with each bar representing approximately the same number of observations. This suggests that income is evenly spread throughout the dataset, without any significant clustering at particular income levels. The KDE line further supports this, showing a smooth, flat curve that mirrors the histogram’s uniformity, with slight fluctuations but no major peaks or dips."
   ]
  },
  {
   "cell_type": "code",
   "execution_count": 25,
   "id": "4dbc3d3e-8036-457c-8b64-dc146a01e00c",
   "metadata": {},
   "outputs": [
    {
     "data": {
      "image/png": "[encoded data removed]",
      "text/plain": [
       "<Figure size 500x500 with 1 Axes>"
      ]
     },
     "metadata": {},
     "output_type": "display_data"
    }
   ],
   "source": [
    "for cont in cont_input_vars:\n",
    "    sns.displot(data=df,\n",
    "                x=cont,\n",
    "                kind='hist',\n",
    "                bins=20,\n",
    "                kde=True)\n",
    "    plt.xticks(rotation=90)\n",
    "    plt.title(f'Marginal Distribution of {cont}')\n",
    "    plt.show()"
   ]
  },
  {
   "cell_type": "markdown",
   "id": "24d41417-9dfd-4894-8f64-8cd9792343f2",
   "metadata": {},
   "source": [
    "### Marginal Distributions Categorical Variables: Bar Charts\n",
    "* The bar chart illustrates the distribution of professions within the dataset, specifically for doctors, lawyers, and engineers. Each profession has a similar count, with doctors slightly outnumbering the other two groups, followed closely by lawyers and then engineers. This balance suggests a well-represented sample across these professions, with no single profession dominating the dataset. The near-equal representation among these professions provides a basis for potentially comparing other characteristics across these groups."
   ]
  },
  {
   "cell_type": "code",
   "execution_count": 26,
   "id": "208e1e73-4a8b-41ac-94fb-11a86478d3d8",
   "metadata": {},
   "outputs": [
    {
     "data": {
      "image/png": "[encoded data removed]",
      "text/plain": [
       "<Figure size 500x500 with 1 Axes>"
      ]
     },
     "metadata": {},
     "output_type": "display_data"
    }
   ],
   "source": [
    "for cat in cat_input_vars:\n",
    "    sns.catplot(data=df,\n",
    "                x=cat,\n",
    "                kind='count',\n",
    "                legend=False)\n",
    "    plt.xticks(rotation=90)\n",
    "    plt.title(f'Count of {cat}')\n",
    "    plt.show()"
   ]
  },
  {
   "cell_type": "markdown",
   "id": "38e697ff-d972-434b-9ea7-a269c3c9b232",
   "metadata": {},
   "source": [
    "### Categorical-to-Continuous Relationships or Conditional Distributions: Box Plots, Violin Plots and Point Plots\n",
    "* The analysis of income distribution across professions, including doctors, lawyers, and engineers, reveals a relatively even income range with no pronounced disparities between professions. The box plot shows similar median income levels for each profession, with a wide interquartile range, indicating that income within each field varies but remains generally comparable across professions. The error bar plot further emphasizes this uniformity, with mean income values closely aligned and overlapping confidence intervals, suggesting that the average income does not significantly differ between these professional categories. Overall, these visualizations imply that income levels are quite balanced among doctors, lawyers, and engineers in this dataset."
   ]
  },
  {
   "cell_type": "code",
   "execution_count": 29,
   "id": "8f8fe7ce-b080-4cb6-a4f4-fa9a86b07244",
   "metadata": {},
   "outputs": [
    {
     "data": {
      "image/png": "[encoded data removed]",
      "text/plain": [
       "<Figure size 511.111x500 with 1 Axes>"
      ]
     },
     "metadata": {},
     "output_type": "display_data"
    }
   ],
   "source": [
    "for cat_input_var in cat_input_vars:\n",
    "    for cont_input_var in cont_input_vars:\n",
    "        sns.catplot(data=df_copy,\n",
    "                    x=cat_input_var, \n",
    "                    y=cont_input_var, \n",
    "                    kind='box')\n",
    "        plt.title(f'{cont_input_var} vs. {cat_input_var}')\n",
    "        plt.xticks(rotation=90)\n",
    "        plt.show()"
   ]
  },
  {
   "cell_type": "code",
   "execution_count": 30,
   "id": "7084dee6-2613-4f09-b2b9-9138274aaec5",
   "metadata": {},
   "outputs": [
    {
     "data": {
      "image/png": "[encoded data removed]",
      "text/plain": [
       "<Figure size 511.111x500 with 1 Axes>"
      ]
     },
     "metadata": {},
     "output_type": "display_data"
    }
   ],
   "source": [
    "for cat_input_var in cat_input_vars:\n",
    "    for cont_input_var in cont_input_vars:\n",
    "        sns.catplot(data=df_copy,\n",
    "                    x=cat_input_var, \n",
    "                    y=cont_input_var, \n",
    "                    kind='violin')\n",
    "        plt.title(f'{cont_input_var} vs. {cat_input_var}')\n",
    "        plt.xticks(rotation=90)\n",
    "        plt.show()"
   ]
  },
  {
   "cell_type": "code",
   "execution_count": 31,
   "id": "58bca31d-d86f-43d1-a644-b45d3eb86d01",
   "metadata": {},
   "outputs": [
    {
     "data": {
      "image/png": "[encoded data removed]",
      "text/plain": [
       "<Figure size 511.111x500 with 1 Axes>"
      ]
     },
     "metadata": {},
     "output_type": "display_data"
    }
   ],
   "source": [
    "for cat_input_var in cat_input_vars:\n",
    "    for cont_input_var in cont_input_vars:\n",
    "        sns.catplot(data=df_copy,\n",
    "                    x=cat_input_var, \n",
    "                    y=cont_input_var, \n",
    "                    kind='point', \n",
    "                    linestyles='')\n",
    "        plt.title(f'{cont_input_var} vs. {cat_input_var}')\n",
    "        plt.xticks(rotation=90)\n",
    "        plt.show()"
   ]
  },
  {
   "cell_type": "markdown",
   "id": "bc734b4a-493a-44aa-b2fe-af03d83355c6",
   "metadata": {},
   "source": [
    "## Binary Classification Model"
   ]
  },
  {
   "cell_type": "code",
   "execution_count": 35,
   "id": "00789b4e-3302-4524-82b2-9ffc2bf2ce33",
   "metadata": {},
   "outputs": [
    {
     "data": {
      "text/plain": [
       "Profession    object\n",
       "Income         int64\n",
       "Fraud          int64\n",
       "dtype: object"
      ]
     },
     "execution_count": 35,
     "metadata": {},
     "output_type": "execute_result"
    }
   ],
   "source": [
    "df.dtypes"
   ]
  },
  {
   "cell_type": "markdown",
   "id": "ce19ea24-601a-4388-919a-508c83078b0b",
   "metadata": {},
   "source": [
    "### Formulas"
   ]
  },
  {
   "cell_type": "markdown",
   "id": "e745dc30-bfd1-4ae4-af48-b7879035736f",
   "metadata": {},
   "source": [
    "#### Formula 0: Additive Terms Only"
   ]
  },
  {
   "cell_type": "code",
   "execution_count": 40,
   "id": "613cf777-c639-4e5d-8ce9-dcbb7565b413",
   "metadata": {},
   "outputs": [],
   "source": [
    "formula_additive = \"\"\"\n",
    "    Fraud ~ \n",
    "    C(Profession) + \n",
    "    Income\n",
    "\"\"\""
   ]
  },
  {
   "cell_type": "markdown",
   "id": "cbd98068-914d-4557-bad2-be8049d8ebbe",
   "metadata": {},
   "source": [
    "#### Formula 1: Additive and Interaction Terms"
   ]
  },
  {
   "cell_type": "code",
   "execution_count": 41,
   "id": "4b6cb5b9-1c1e-48c9-8332-0f3d18252f72",
   "metadata": {},
   "outputs": [],
   "source": [
    "formula_additive_and_interactive = \"\"\"\n",
    "    Fraud ~ \n",
    "    C(Profession) * \n",
    "    Income\n",
    "\"\"\""
   ]
  },
  {
   "cell_type": "markdown",
   "id": "9c6c806a-0fdd-4483-91ad-8c492af873fe",
   "metadata": {},
   "source": [
    "#### Formula 2: Quadratic"
   ]
  },
  {
   "cell_type": "code",
   "execution_count": 42,
   "id": "14901263-4a70-43e4-aba8-95260131acd2",
   "metadata": {},
   "outputs": [],
   "source": [
    "formula_quadratic = \"\"\"\n",
    "    Fraud ~ \n",
    "    C(Profession) * \n",
    "    I(Income**2)\n",
    "\"\"\""
   ]
  },
  {
   "cell_type": "markdown",
   "id": "5b84ca00-b847-40d7-a8c6-5411d3340244",
   "metadata": {},
   "source": [
    "#### Formula 3: Cubic"
   ]
  },
  {
   "cell_type": "code",
   "execution_count": 43,
   "id": "9e782132-9997-46f5-889c-19e79cf039ed",
   "metadata": {},
   "outputs": [],
   "source": [
    "formula_cubic = \"\"\"\n",
    "    Fraud ~ \n",
    "    C(Profession) * \n",
    "    I(Income**3)\n",
    "\"\"\""
   ]
  },
  {
   "cell_type": "markdown",
   "id": "43096556-5980-4a5b-afe7-c3d3280b527b",
   "metadata": {},
   "source": [
    "#### Formula 4: Quartic"
   ]
  },
  {
   "cell_type": "code",
   "execution_count": 44,
   "id": "3e0e39ff-6376-406b-a97f-3f4368894bca",
   "metadata": {},
   "outputs": [],
   "source": [
    "formula_quartic = \"\"\"\n",
    "    Fraud ~ \n",
    "    C(Profession) * \n",
    "    I(Income**4)\n",
    "\"\"\""
   ]
  },
  {
   "cell_type": "markdown",
   "id": "e3cfc0cf-ef43-45b4-9883-76b4cfdeb8e4",
   "metadata": {},
   "source": [
    "#### Combined Formulas"
   ]
  },
  {
   "cell_type": "code",
   "execution_count": 45,
   "id": "69e840de-b0c7-49f4-8a27-19ab58eff369",
   "metadata": {},
   "outputs": [],
   "source": [
    "formulas = [formula_additive,\n",
    "            formula_additive_and_interactive,\n",
    "            formula_quadratic,\n",
    "            formula_cubic,\n",
    "            formula_quartic]"
   ]
  },
  {
   "cell_type": "markdown",
   "id": "1195c945-6e60-455e-984c-735624313ef2",
   "metadata": {},
   "source": [
    "### Apply 5-Fold Cross-Validation"
   ]
  },
  {
   "cell_type": "code",
   "execution_count": 46,
   "id": "791840b4-c187-4087-b4f7-5fd99764e171",
   "metadata": {},
   "outputs": [],
   "source": [
    "from sklearn.model_selection import StratifiedKFold"
   ]
  },
  {
   "cell_type": "code",
   "execution_count": 47,
   "id": "1c7234bb-8cfb-485f-a384-d4b902c85c73",
   "metadata": {},
   "outputs": [],
   "source": [
    "kf = StratifiedKFold(n_splits=5,\n",
    "                     shuffle=True,\n",
    "                     random_state=101)"
   ]
  },
  {
   "cell_type": "markdown",
   "id": "557b9773-6670-430e-85fc-f975cb932a45",
   "metadata": {},
   "source": [
    "### Fit the Logistic Regression Models w/ Statsmodels"
   ]
  },
  {
   "cell_type": "code",
   "execution_count": 48,
   "id": "9e3a6647-8a92-4697-a3a3-8cd052e4cb03",
   "metadata": {},
   "outputs": [],
   "source": [
    "input_names = df.drop(columns=[target]).\\\n",
    "                      copy().\\\n",
    "                      columns.\\\n",
    "                      to_list()"
   ]
  },
  {
   "cell_type": "code",
   "execution_count": 49,
   "id": "3e318d7e-babb-483f-ac81-dbb587163f82",
   "metadata": {},
   "outputs": [],
   "source": [
    "output_name = target"
   ]
  },
  {
   "cell_type": "code",
   "execution_count": 50,
   "id": "bd8a81bb-f8e8-413f-aa6b-44b8c7ebeb23",
   "metadata": {},
   "outputs": [],
   "source": [
    "from sklearn.preprocessing import StandardScaler"
   ]
  },
  {
   "cell_type": "code",
   "execution_count": 51,
   "id": "ea2a55ca-7c5d-4071-aec8-1e2b25b813e5",
   "metadata": {},
   "outputs": [],
   "source": [
    "from sklearn.metrics import roc_auc_score"
   ]
  },
  {
   "cell_type": "code",
   "execution_count": 52,
   "id": "3007e93f-7ea7-4e20-a58a-284aacb8925d",
   "metadata": {},
   "outputs": [],
   "source": [
    "def my_coefplot(model, figsize_default=(10, 4), figsize_expansion_factor=0.5, max_default_vars=10):\n",
    "    \"\"\"\n",
    "    Function that plots a coefficient plot with error bars for a given statistical model\n",
    "    and prints out which variables are statistically significant and whether they are positive or negative.\n",
    "    The graph height dynamically adjusts based on the number of variables.\n",
    "\n",
    "    Params:\n",
    "        model: object\n",
    "        figsize_default: tuple, optional\n",
    "        figsize_expansion_factor: float, optional\n",
    "        max_default_vars: int, optional\n",
    "    \"\"\"\n",
    "    # cap the standard errors (bse) to avoid overly large error bars, upper bound set to 2\n",
    "    capped_bse = model.bse.clip(upper=2)\n",
    "    \n",
    "    # calculate the minimum and maximum coefficient values adjusted by the standard errors\n",
    "    coef_min = (model.params - 2 * capped_bse).min()\n",
    "    coef_max = (model.params + 2 * capped_bse).max()\n",
    "    \n",
    "    # define buffer space for the x-axis limits\n",
    "    buffer_space = 0.5\n",
    "    xlim_min = coef_min - buffer_space\n",
    "    xlim_max = coef_max + buffer_space\n",
    "    \n",
    "    # dynamically calculate figure height based on the number of variables\n",
    "    num_vars = len(model.params)\n",
    "    if num_vars > max_default_vars:\n",
    "        height = figsize_default[1] + figsize_expansion_factor * (num_vars - max_default_vars)\n",
    "    else:\n",
    "        height = figsize_default[1]\n",
    "    \n",
    "    # create the plot\n",
    "    fig, ax = plt.subplots(figsize=(figsize_default[0], height))\n",
    "    \n",
    "    # identify statistically significant and non-significant variables based on p-values\n",
    "    significant_vars = model.pvalues[model.pvalues < 0.05].index\n",
    "    not_significant_vars = model.pvalues[model.pvalues >= 0.05].index\n",
    "    \n",
    "    # plot non-significant variables with grey error bars\n",
    "    ax.errorbar(y=not_significant_vars,\n",
    "                x=model.params[not_significant_vars],\n",
    "                xerr=2 * capped_bse[not_significant_vars],\n",
    "                fmt='o', \n",
    "                color='grey', \n",
    "                ecolor='grey', \n",
    "                elinewidth=2, \n",
    "                ms=10,\n",
    "                label='not significant')\n",
    "    \n",
    "    # plot significant variables with red error bars\n",
    "    ax.errorbar(y=significant_vars,\n",
    "                x=model.params[significant_vars],\n",
    "                xerr=2 * capped_bse[significant_vars],\n",
    "                fmt='o', \n",
    "                color='red', \n",
    "                ecolor='red', \n",
    "                elinewidth=2, \n",
    "                ms=10,\n",
    "                label='significant (p < 0.05)')\n",
    "    \n",
    "    # add a vertical line at 0 to visually separate positive and negative coefficients\n",
    "    ax.axvline(x=0, linestyle='--', linewidth=2.5, color='grey')\n",
    "    \n",
    "    # adjust the x-axis limits to add some buffer space on either side\n",
    "    ax.set_xlim(min(-0.5, coef_min - 0.2), max(0.5, coef_max + 0.2))\n",
    "    ax.set_xlabel('coefficient value')\n",
    "    \n",
    "    # add legend to distinguish between significant and non-significant variables\n",
    "    ax.legend()\n",
    "    \n",
    "    # show the plot\n",
    "    plt.show()\n",
    "    \n",
    "    # print the summary of statistically significant variables\n",
    "    print('\\n--- statistically significant variables ---')\n",
    "    \n",
    "    # check if there are any significant variables, if not, print a message\n",
    "    if significant_vars.empty:\n",
    "        print('No statistically significant variables found.')\n",
    "    else:\n",
    "        # for each significant variable, print its coefficient, standard error, p-value, and direction\n",
    "        for var in significant_vars:\n",
    "            coef_value = model.params[var]\n",
    "            std_err = model.bse[var]\n",
    "            p_val = model.pvalues[var]\n",
    "            direction = 'positive' if coef_value > 0 else 'negative'\n",
    "            print(f'variable: {var}, coefficient: {coef_value:.4f}, std err: {std_err:.4f}, p-value: {p_val:.4f}, direction: {direction}')"
   ]
  },
  {
   "cell_type": "code",
   "execution_count": 53,
   "id": "9a5ff252-f70f-421c-88d7-8057a9e25133",
   "metadata": {},
   "outputs": [],
   "source": [
    "def train_and_test_logistic_with_cv(model, formula, df, x_names, y_name, cv, threshold=0.5, use_scaler=True):\n",
    "    \"\"\"\n",
    "    Function to train and test a logistic binary classification model with Cross-Validation,\n",
    "    including accuracy and ROC AUC score calculations.\n",
    "\n",
    "    Params:\n",
    "        model: object\n",
    "        formula: str\n",
    "        df: object\n",
    "        x_names: list\n",
    "        y_name: str\n",
    "        cv: object\n",
    "        threshold: float, optional\n",
    "        use_scaler: bool, optional\n",
    "\n",
    "    Returns:\n",
    "        object\n",
    "    \"\"\"\n",
    "    # separate the inputs and output\n",
    "    input_df = df.loc[:, x_names].copy()\n",
    "    \n",
    "    # initialize the performance metric storage lists\n",
    "    train_res = []\n",
    "    test_res = []\n",
    "    train_auc_scores = []\n",
    "    test_auc_scores = []\n",
    "    \n",
    "    # split the data and iterate over the folds\n",
    "    for train_id, test_id in cv.split(input_df.to_numpy(), df[y_name].to_numpy()):\n",
    "        \n",
    "        # subset the training and test splits within each fold\n",
    "        train_data = df.iloc[train_id, :].copy()\n",
    "        test_data = df.iloc[test_id, :].copy()\n",
    "\n",
    "        # if the use_scaler flag is set, standardize the numeric features within each fold\n",
    "        if use_scaler:\n",
    "            scaler = StandardScaler()\n",
    "            \n",
    "            # identify numeric columns to scale, excluding the target variable\n",
    "            columns_to_scale = train_data.select_dtypes(include=[np.number]).columns.tolist()\n",
    "            columns_to_scale = [col for col in columns_to_scale if col != y_name]\n",
    "            \n",
    "            # fit scaler on training data\n",
    "            scaler.fit(train_data[columns_to_scale])\n",
    "            \n",
    "            # transform training and test data\n",
    "            train_data[columns_to_scale] = scaler.transform(train_data[columns_to_scale])\n",
    "            test_data[columns_to_scale] = scaler.transform(test_data[columns_to_scale])\n",
    "        \n",
    "        # fit the model on the training data within the current fold\n",
    "        a_model = smf.logit(formula=formula, data=train_data).fit()\n",
    "        \n",
    "        # predict the training within each fold\n",
    "        train_copy = train_data.copy()\n",
    "        train_copy['pred_probability'] = a_model.predict(train_data)\n",
    "        train_copy['pred_class'] = np.where(train_copy.pred_probability > threshold, 1, 0)\n",
    "        \n",
    "        # predict the testing within each fold\n",
    "        test_copy = test_data.copy()\n",
    "        test_copy['pred_probability'] = a_model.predict(test_data)\n",
    "        test_copy['pred_class'] = np.where(test_copy.pred_probability > threshold, 1, 0)\n",
    "        \n",
    "        # calculate the performance metric (accuracy) on the training set within the fold\n",
    "        train_res.append(np.mean(train_copy[y_name] == train_copy.pred_class))\n",
    "        \n",
    "        # calculate the performance metric (accuracy) on the testing set within the fold\n",
    "        test_res.append(np.mean(test_copy[y_name] == test_copy.pred_class))\n",
    "\n",
    "        # calculate the roc_auc_score for the training set\n",
    "        train_auc_scores.append(roc_auc_score(train_copy[y_name], train_copy['pred_probability']))\n",
    "        \n",
    "        # calculate the roc_auc_score for the testing_set\n",
    "        test_auc_scores.append(roc_auc_score(test_copy[y_name], test_copy['pred_probability']))\n",
    "    \n",
    "    # book keeping to store the results (accuracy)\n",
    "    train_df = pd.DataFrame({'accuracy': train_res, 'roc_auc': train_auc_scores})\n",
    "    train_df['from_set'] = 'training'\n",
    "    train_df['fold_id'] = train_df.index + 1\n",
    "    test_df = pd.DataFrame({'accuracy': test_res, 'roc_auc': test_auc_scores})\n",
    "    test_df['from_set'] = 'testing'\n",
    "    test_df['fold_id'] = test_df.index + 1\n",
    "    \n",
    "    # combine the splits together\n",
    "    res_df = pd.concat([train_df, test_df], ignore_index=True)\n",
    "    \n",
    "    # add information about the model\n",
    "    res_df['model'] = model\n",
    "    res_df['formula'] = formula\n",
    "    res_df['num_coefs'] = len(a_model.params)\n",
    "    res_df['threshold'] = threshold\n",
    "\n",
    "    # return the results DataFrame\n",
    "    return res_df"
   ]
  },
  {
   "cell_type": "markdown",
   "id": "ac0cd8ba-9d78-42d6-b415-cd8c1df27632",
   "metadata": {},
   "source": [
    "### Test Models"
   ]
  },
  {
   "cell_type": "code",
   "execution_count": 54,
   "id": "99800380-d32d-49cf-b5b4-24a281fe07c0",
   "metadata": {},
   "outputs": [],
   "source": [
    "import os"
   ]
  },
  {
   "cell_type": "code",
   "execution_count": 55,
   "id": "f7a188a8-a8d0-468b-a50d-2690121e2cf9",
   "metadata": {},
   "outputs": [],
   "source": [
    "import contextlib"
   ]
  },
  {
   "cell_type": "code",
   "execution_count": 56,
   "id": "b75cd420-2934-4b08-ad5d-00641c55726c",
   "metadata": {},
   "outputs": [],
   "source": [
    "res_list = []\n",
    "error_log = []\n",
    "\n",
    "with contextlib.redirect_stdout(open(os.devnull, 'w')), contextlib.redirect_stderr(open(os.devnull, 'w')):\n",
    "    for model in range(len(formulas)):\n",
    "        try:\n",
    "            res_list.append(train_and_test_logistic_with_cv(model,\n",
    "                                                            formula=formulas[model],\n",
    "                                                            df=df,\n",
    "                                                            x_names=input_names,\n",
    "                                                            y_name=output_name,\n",
    "                                                            cv=kf))\n",
    "        except Exception as e:\n",
    "            error_log.append(f'Formula ID {model} failed: {str(e)}')"
   ]
  },
  {
   "cell_type": "code",
   "execution_count": 57,
   "id": "e754012c-ecf4-4f07-bb46-a250b8a98fd0",
   "metadata": {},
   "outputs": [],
   "source": [
    "cv_results = pd.concat(res_list, ignore_index=True)"
   ]
  },
  {
   "cell_type": "code",
   "execution_count": 58,
   "id": "6c44afa7-5325-44e8-840d-78f7850733df",
   "metadata": {},
   "outputs": [
    {
     "data": {
      "text/html": [
       "<div>\n",
       "<style scoped>\n",
       "    .dataframe tbody tr th:only-of-type {\n",
       "        vertical-align: middle;\n",
       "    }\n",
       "\n",
       "    .dataframe tbody tr th {\n",
       "        vertical-align: top;\n",
       "    }\n",
       "\n",
       "    .dataframe thead th {\n",
       "        text-align: right;\n",
       "    }\n",
       "</style>\n",
       "<table border=\"1\" class=\"dataframe\">\n",
       "  <thead>\n",
       "    <tr style=\"text-align: right;\">\n",
       "      <th></th>\n",
       "      <th>accuracy</th>\n",
       "      <th>roc_auc</th>\n",
       "      <th>from_set</th>\n",
       "      <th>fold_id</th>\n",
       "      <th>model</th>\n",
       "      <th>formula</th>\n",
       "      <th>num_coefs</th>\n",
       "      <th>threshold</th>\n",
       "    </tr>\n",
       "  </thead>\n",
       "  <tbody>\n",
       "    <tr>\n",
       "      <th>0</th>\n",
       "      <td>0.513875</td>\n",
       "      <td>0.519780</td>\n",
       "      <td>training</td>\n",
       "      <td>1</td>\n",
       "      <td>0</td>\n",
       "      <td>\\n    Fraud ~ \\n    C(Profession) + \\n    Inco...</td>\n",
       "      <td>4</td>\n",
       "      <td>0.5</td>\n",
       "    </tr>\n",
       "    <tr>\n",
       "      <th>1</th>\n",
       "      <td>0.510500</td>\n",
       "      <td>0.514585</td>\n",
       "      <td>training</td>\n",
       "      <td>2</td>\n",
       "      <td>0</td>\n",
       "      <td>\\n    Fraud ~ \\n    C(Profession) + \\n    Inco...</td>\n",
       "      <td>4</td>\n",
       "      <td>0.5</td>\n",
       "    </tr>\n",
       "    <tr>\n",
       "      <th>2</th>\n",
       "      <td>0.515750</td>\n",
       "      <td>0.521852</td>\n",
       "      <td>training</td>\n",
       "      <td>3</td>\n",
       "      <td>0</td>\n",
       "      <td>\\n    Fraud ~ \\n    C(Profession) + \\n    Inco...</td>\n",
       "      <td>4</td>\n",
       "      <td>0.5</td>\n",
       "    </tr>\n",
       "    <tr>\n",
       "      <th>3</th>\n",
       "      <td>0.515500</td>\n",
       "      <td>0.515066</td>\n",
       "      <td>training</td>\n",
       "      <td>4</td>\n",
       "      <td>0</td>\n",
       "      <td>\\n    Fraud ~ \\n    C(Profession) + \\n    Inco...</td>\n",
       "      <td>4</td>\n",
       "      <td>0.5</td>\n",
       "    </tr>\n",
       "    <tr>\n",
       "      <th>4</th>\n",
       "      <td>0.516625</td>\n",
       "      <td>0.520080</td>\n",
       "      <td>training</td>\n",
       "      <td>5</td>\n",
       "      <td>0</td>\n",
       "      <td>\\n    Fraud ~ \\n    C(Profession) + \\n    Inco...</td>\n",
       "      <td>4</td>\n",
       "      <td>0.5</td>\n",
       "    </tr>\n",
       "    <tr>\n",
       "      <th>5</th>\n",
       "      <td>0.518000</td>\n",
       "      <td>0.512652</td>\n",
       "      <td>testing</td>\n",
       "      <td>1</td>\n",
       "      <td>0</td>\n",
       "      <td>\\n    Fraud ~ \\n    C(Profession) + \\n    Inco...</td>\n",
       "      <td>4</td>\n",
       "      <td>0.5</td>\n",
       "    </tr>\n",
       "    <tr>\n",
       "      <th>6</th>\n",
       "      <td>0.508500</td>\n",
       "      <td>0.519114</td>\n",
       "      <td>testing</td>\n",
       "      <td>2</td>\n",
       "      <td>0</td>\n",
       "      <td>\\n    Fraud ~ \\n    C(Profession) + \\n    Inco...</td>\n",
       "      <td>4</td>\n",
       "      <td>0.5</td>\n",
       "    </tr>\n",
       "    <tr>\n",
       "      <th>7</th>\n",
       "      <td>0.500000</td>\n",
       "      <td>0.501801</td>\n",
       "      <td>testing</td>\n",
       "      <td>3</td>\n",
       "      <td>0</td>\n",
       "      <td>\\n    Fraud ~ \\n    C(Profession) + \\n    Inco...</td>\n",
       "      <td>4</td>\n",
       "      <td>0.5</td>\n",
       "    </tr>\n",
       "    <tr>\n",
       "      <th>8</th>\n",
       "      <td>0.515000</td>\n",
       "      <td>0.529791</td>\n",
       "      <td>testing</td>\n",
       "      <td>4</td>\n",
       "      <td>0</td>\n",
       "      <td>\\n    Fraud ~ \\n    C(Profession) + \\n    Inco...</td>\n",
       "      <td>4</td>\n",
       "      <td>0.5</td>\n",
       "    </tr>\n",
       "    <tr>\n",
       "      <th>9</th>\n",
       "      <td>0.507500</td>\n",
       "      <td>0.509905</td>\n",
       "      <td>testing</td>\n",
       "      <td>5</td>\n",
       "      <td>0</td>\n",
       "      <td>\\n    Fraud ~ \\n    C(Profession) + \\n    Inco...</td>\n",
       "      <td>4</td>\n",
       "      <td>0.5</td>\n",
       "    </tr>\n",
       "    <tr>\n",
       "      <th>10</th>\n",
       "      <td>0.514000</td>\n",
       "      <td>0.519777</td>\n",
       "      <td>training</td>\n",
       "      <td>1</td>\n",
       "      <td>1</td>\n",
       "      <td>\\n    Fraud ~ \\n    C(Profession) * \\n    Inco...</td>\n",
       "      <td>6</td>\n",
       "      <td>0.5</td>\n",
       "    </tr>\n",
       "    <tr>\n",
       "      <th>11</th>\n",
       "      <td>0.510250</td>\n",
       "      <td>0.514946</td>\n",
       "      <td>training</td>\n",
       "      <td>2</td>\n",
       "      <td>1</td>\n",
       "      <td>\\n    Fraud ~ \\n    C(Profession) * \\n    Inco...</td>\n",
       "      <td>6</td>\n",
       "      <td>0.5</td>\n",
       "    </tr>\n",
       "    <tr>\n",
       "      <th>12</th>\n",
       "      <td>0.514000</td>\n",
       "      <td>0.522304</td>\n",
       "      <td>training</td>\n",
       "      <td>3</td>\n",
       "      <td>1</td>\n",
       "      <td>\\n    Fraud ~ \\n    C(Profession) * \\n    Inco...</td>\n",
       "      <td>6</td>\n",
       "      <td>0.5</td>\n",
       "    </tr>\n",
       "    <tr>\n",
       "      <th>13</th>\n",
       "      <td>0.510000</td>\n",
       "      <td>0.518004</td>\n",
       "      <td>training</td>\n",
       "      <td>4</td>\n",
       "      <td>1</td>\n",
       "      <td>\\n    Fraud ~ \\n    C(Profession) * \\n    Inco...</td>\n",
       "      <td>6</td>\n",
       "      <td>0.5</td>\n",
       "    </tr>\n",
       "    <tr>\n",
       "      <th>14</th>\n",
       "      <td>0.517250</td>\n",
       "      <td>0.520080</td>\n",
       "      <td>training</td>\n",
       "      <td>5</td>\n",
       "      <td>1</td>\n",
       "      <td>\\n    Fraud ~ \\n    C(Profession) * \\n    Inco...</td>\n",
       "      <td>6</td>\n",
       "      <td>0.5</td>\n",
       "    </tr>\n",
       "    <tr>\n",
       "      <th>15</th>\n",
       "      <td>0.517500</td>\n",
       "      <td>0.512069</td>\n",
       "      <td>testing</td>\n",
       "      <td>1</td>\n",
       "      <td>1</td>\n",
       "      <td>\\n    Fraud ~ \\n    C(Profession) * \\n    Inco...</td>\n",
       "      <td>6</td>\n",
       "      <td>0.5</td>\n",
       "    </tr>\n",
       "    <tr>\n",
       "      <th>16</th>\n",
       "      <td>0.521000</td>\n",
       "      <td>0.525854</td>\n",
       "      <td>testing</td>\n",
       "      <td>2</td>\n",
       "      <td>1</td>\n",
       "      <td>\\n    Fraud ~ \\n    C(Profession) * \\n    Inco...</td>\n",
       "      <td>6</td>\n",
       "      <td>0.5</td>\n",
       "    </tr>\n",
       "    <tr>\n",
       "      <th>17</th>\n",
       "      <td>0.504500</td>\n",
       "      <td>0.497654</td>\n",
       "      <td>testing</td>\n",
       "      <td>3</td>\n",
       "      <td>1</td>\n",
       "      <td>\\n    Fraud ~ \\n    C(Profession) * \\n    Inco...</td>\n",
       "      <td>6</td>\n",
       "      <td>0.5</td>\n",
       "    </tr>\n",
       "    <tr>\n",
       "      <th>18</th>\n",
       "      <td>0.512000</td>\n",
       "      <td>0.512197</td>\n",
       "      <td>testing</td>\n",
       "      <td>4</td>\n",
       "      <td>1</td>\n",
       "      <td>\\n    Fraud ~ \\n    C(Profession) * \\n    Inco...</td>\n",
       "      <td>6</td>\n",
       "      <td>0.5</td>\n",
       "    </tr>\n",
       "    <tr>\n",
       "      <th>19</th>\n",
       "      <td>0.511000</td>\n",
       "      <td>0.509905</td>\n",
       "      <td>testing</td>\n",
       "      <td>5</td>\n",
       "      <td>1</td>\n",
       "      <td>\\n    Fraud ~ \\n    C(Profession) * \\n    Inco...</td>\n",
       "      <td>6</td>\n",
       "      <td>0.5</td>\n",
       "    </tr>\n",
       "    <tr>\n",
       "      <th>20</th>\n",
       "      <td>0.514000</td>\n",
       "      <td>0.522628</td>\n",
       "      <td>training</td>\n",
       "      <td>1</td>\n",
       "      <td>2</td>\n",
       "      <td>\\n    Fraud ~ \\n    C(Profession) * \\n    I(In...</td>\n",
       "      <td>6</td>\n",
       "      <td>0.5</td>\n",
       "    </tr>\n",
       "    <tr>\n",
       "      <th>21</th>\n",
       "      <td>0.515250</td>\n",
       "      <td>0.521187</td>\n",
       "      <td>training</td>\n",
       "      <td>2</td>\n",
       "      <td>2</td>\n",
       "      <td>\\n    Fraud ~ \\n    C(Profession) * \\n    I(In...</td>\n",
       "      <td>6</td>\n",
       "      <td>0.5</td>\n",
       "    </tr>\n",
       "    <tr>\n",
       "      <th>22</th>\n",
       "      <td>0.517125</td>\n",
       "      <td>0.526942</td>\n",
       "      <td>training</td>\n",
       "      <td>3</td>\n",
       "      <td>2</td>\n",
       "      <td>\\n    Fraud ~ \\n    C(Profession) * \\n    I(In...</td>\n",
       "      <td>6</td>\n",
       "      <td>0.5</td>\n",
       "    </tr>\n",
       "    <tr>\n",
       "      <th>23</th>\n",
       "      <td>0.513625</td>\n",
       "      <td>0.519942</td>\n",
       "      <td>training</td>\n",
       "      <td>4</td>\n",
       "      <td>2</td>\n",
       "      <td>\\n    Fraud ~ \\n    C(Profession) * \\n    I(In...</td>\n",
       "      <td>6</td>\n",
       "      <td>0.5</td>\n",
       "    </tr>\n",
       "    <tr>\n",
       "      <th>24</th>\n",
       "      <td>0.518250</td>\n",
       "      <td>0.526145</td>\n",
       "      <td>training</td>\n",
       "      <td>5</td>\n",
       "      <td>2</td>\n",
       "      <td>\\n    Fraud ~ \\n    C(Profession) * \\n    I(In...</td>\n",
       "      <td>6</td>\n",
       "      <td>0.5</td>\n",
       "    </tr>\n",
       "    <tr>\n",
       "      <th>25</th>\n",
       "      <td>0.508000</td>\n",
       "      <td>0.518063</td>\n",
       "      <td>testing</td>\n",
       "      <td>1</td>\n",
       "      <td>2</td>\n",
       "      <td>\\n    Fraud ~ \\n    C(Profession) * \\n    I(In...</td>\n",
       "      <td>6</td>\n",
       "      <td>0.5</td>\n",
       "    </tr>\n",
       "    <tr>\n",
       "      <th>26</th>\n",
       "      <td>0.517000</td>\n",
       "      <td>0.513091</td>\n",
       "      <td>testing</td>\n",
       "      <td>2</td>\n",
       "      <td>2</td>\n",
       "      <td>\\n    Fraud ~ \\n    C(Profession) * \\n    I(In...</td>\n",
       "      <td>6</td>\n",
       "      <td>0.5</td>\n",
       "    </tr>\n",
       "    <tr>\n",
       "      <th>27</th>\n",
       "      <td>0.504000</td>\n",
       "      <td>0.510806</td>\n",
       "      <td>testing</td>\n",
       "      <td>3</td>\n",
       "      <td>2</td>\n",
       "      <td>\\n    Fraud ~ \\n    C(Profession) * \\n    I(In...</td>\n",
       "      <td>6</td>\n",
       "      <td>0.5</td>\n",
       "    </tr>\n",
       "    <tr>\n",
       "      <th>28</th>\n",
       "      <td>0.523000</td>\n",
       "      <td>0.529094</td>\n",
       "      <td>testing</td>\n",
       "      <td>4</td>\n",
       "      <td>2</td>\n",
       "      <td>\\n    Fraud ~ \\n    C(Profession) * \\n    I(In...</td>\n",
       "      <td>6</td>\n",
       "      <td>0.5</td>\n",
       "    </tr>\n",
       "    <tr>\n",
       "      <th>29</th>\n",
       "      <td>0.497500</td>\n",
       "      <td>0.498396</td>\n",
       "      <td>testing</td>\n",
       "      <td>5</td>\n",
       "      <td>2</td>\n",
       "      <td>\\n    Fraud ~ \\n    C(Profession) * \\n    I(In...</td>\n",
       "      <td>6</td>\n",
       "      <td>0.5</td>\n",
       "    </tr>\n",
       "    <tr>\n",
       "      <th>30</th>\n",
       "      <td>0.514625</td>\n",
       "      <td>0.520876</td>\n",
       "      <td>training</td>\n",
       "      <td>1</td>\n",
       "      <td>3</td>\n",
       "      <td>\\n    Fraud ~ \\n    C(Profession) * \\n    I(In...</td>\n",
       "      <td>6</td>\n",
       "      <td>0.5</td>\n",
       "    </tr>\n",
       "    <tr>\n",
       "      <th>31</th>\n",
       "      <td>0.510000</td>\n",
       "      <td>0.515170</td>\n",
       "      <td>training</td>\n",
       "      <td>2</td>\n",
       "      <td>3</td>\n",
       "      <td>\\n    Fraud ~ \\n    C(Profession) * \\n    I(In...</td>\n",
       "      <td>6</td>\n",
       "      <td>0.5</td>\n",
       "    </tr>\n",
       "    <tr>\n",
       "      <th>32</th>\n",
       "      <td>0.517875</td>\n",
       "      <td>0.522717</td>\n",
       "      <td>training</td>\n",
       "      <td>3</td>\n",
       "      <td>3</td>\n",
       "      <td>\\n    Fraud ~ \\n    C(Profession) * \\n    I(In...</td>\n",
       "      <td>6</td>\n",
       "      <td>0.5</td>\n",
       "    </tr>\n",
       "    <tr>\n",
       "      <th>33</th>\n",
       "      <td>0.516625</td>\n",
       "      <td>0.519002</td>\n",
       "      <td>training</td>\n",
       "      <td>4</td>\n",
       "      <td>3</td>\n",
       "      <td>\\n    Fraud ~ \\n    C(Profession) * \\n    I(In...</td>\n",
       "      <td>6</td>\n",
       "      <td>0.5</td>\n",
       "    </tr>\n",
       "    <tr>\n",
       "      <th>34</th>\n",
       "      <td>0.517125</td>\n",
       "      <td>0.519541</td>\n",
       "      <td>training</td>\n",
       "      <td>5</td>\n",
       "      <td>3</td>\n",
       "      <td>\\n    Fraud ~ \\n    C(Profession) * \\n    I(In...</td>\n",
       "      <td>6</td>\n",
       "      <td>0.5</td>\n",
       "    </tr>\n",
       "    <tr>\n",
       "      <th>35</th>\n",
       "      <td>0.515000</td>\n",
       "      <td>0.508622</td>\n",
       "      <td>testing</td>\n",
       "      <td>1</td>\n",
       "      <td>3</td>\n",
       "      <td>\\n    Fraud ~ \\n    C(Profession) * \\n    I(In...</td>\n",
       "      <td>6</td>\n",
       "      <td>0.5</td>\n",
       "    </tr>\n",
       "    <tr>\n",
       "      <th>36</th>\n",
       "      <td>0.525000</td>\n",
       "      <td>0.525311</td>\n",
       "      <td>testing</td>\n",
       "      <td>2</td>\n",
       "      <td>3</td>\n",
       "      <td>\\n    Fraud ~ \\n    C(Profession) * \\n    I(In...</td>\n",
       "      <td>6</td>\n",
       "      <td>0.5</td>\n",
       "    </tr>\n",
       "    <tr>\n",
       "      <th>37</th>\n",
       "      <td>0.502000</td>\n",
       "      <td>0.495261</td>\n",
       "      <td>testing</td>\n",
       "      <td>3</td>\n",
       "      <td>3</td>\n",
       "      <td>\\n    Fraud ~ \\n    C(Profession) * \\n    I(In...</td>\n",
       "      <td>6</td>\n",
       "      <td>0.5</td>\n",
       "    </tr>\n",
       "    <tr>\n",
       "      <th>38</th>\n",
       "      <td>0.516500</td>\n",
       "      <td>0.512807</td>\n",
       "      <td>testing</td>\n",
       "      <td>4</td>\n",
       "      <td>3</td>\n",
       "      <td>\\n    Fraud ~ \\n    C(Profession) * \\n    I(In...</td>\n",
       "      <td>6</td>\n",
       "      <td>0.5</td>\n",
       "    </tr>\n",
       "    <tr>\n",
       "      <th>39</th>\n",
       "      <td>0.509000</td>\n",
       "      <td>0.509302</td>\n",
       "      <td>testing</td>\n",
       "      <td>5</td>\n",
       "      <td>3</td>\n",
       "      <td>\\n    Fraud ~ \\n    C(Profession) * \\n    I(In...</td>\n",
       "      <td>6</td>\n",
       "      <td>0.5</td>\n",
       "    </tr>\n",
       "    <tr>\n",
       "      <th>40</th>\n",
       "      <td>0.514250</td>\n",
       "      <td>0.522945</td>\n",
       "      <td>training</td>\n",
       "      <td>1</td>\n",
       "      <td>4</td>\n",
       "      <td>\\n    Fraud ~ \\n    C(Profession) * \\n    I(In...</td>\n",
       "      <td>6</td>\n",
       "      <td>0.5</td>\n",
       "    </tr>\n",
       "    <tr>\n",
       "      <th>41</th>\n",
       "      <td>0.513375</td>\n",
       "      <td>0.521524</td>\n",
       "      <td>training</td>\n",
       "      <td>2</td>\n",
       "      <td>4</td>\n",
       "      <td>\\n    Fraud ~ \\n    C(Profession) * \\n    I(In...</td>\n",
       "      <td>6</td>\n",
       "      <td>0.5</td>\n",
       "    </tr>\n",
       "    <tr>\n",
       "      <th>42</th>\n",
       "      <td>0.519375</td>\n",
       "      <td>0.524607</td>\n",
       "      <td>training</td>\n",
       "      <td>3</td>\n",
       "      <td>4</td>\n",
       "      <td>\\n    Fraud ~ \\n    C(Profession) * \\n    I(In...</td>\n",
       "      <td>6</td>\n",
       "      <td>0.5</td>\n",
       "    </tr>\n",
       "    <tr>\n",
       "      <th>43</th>\n",
       "      <td>0.516500</td>\n",
       "      <td>0.520441</td>\n",
       "      <td>training</td>\n",
       "      <td>4</td>\n",
       "      <td>4</td>\n",
       "      <td>\\n    Fraud ~ \\n    C(Profession) * \\n    I(In...</td>\n",
       "      <td>6</td>\n",
       "      <td>0.5</td>\n",
       "    </tr>\n",
       "    <tr>\n",
       "      <th>44</th>\n",
       "      <td>0.517500</td>\n",
       "      <td>0.525943</td>\n",
       "      <td>training</td>\n",
       "      <td>5</td>\n",
       "      <td>4</td>\n",
       "      <td>\\n    Fraud ~ \\n    C(Profession) * \\n    I(In...</td>\n",
       "      <td>6</td>\n",
       "      <td>0.5</td>\n",
       "    </tr>\n",
       "    <tr>\n",
       "      <th>45</th>\n",
       "      <td>0.510500</td>\n",
       "      <td>0.520472</td>\n",
       "      <td>testing</td>\n",
       "      <td>1</td>\n",
       "      <td>4</td>\n",
       "      <td>\\n    Fraud ~ \\n    C(Profession) * \\n    I(In...</td>\n",
       "      <td>6</td>\n",
       "      <td>0.5</td>\n",
       "    </tr>\n",
       "    <tr>\n",
       "      <th>46</th>\n",
       "      <td>0.518000</td>\n",
       "      <td>0.515006</td>\n",
       "      <td>testing</td>\n",
       "      <td>2</td>\n",
       "      <td>4</td>\n",
       "      <td>\\n    Fraud ~ \\n    C(Profession) * \\n    I(In...</td>\n",
       "      <td>6</td>\n",
       "      <td>0.5</td>\n",
       "    </tr>\n",
       "    <tr>\n",
       "      <th>47</th>\n",
       "      <td>0.508000</td>\n",
       "      <td>0.515320</td>\n",
       "      <td>testing</td>\n",
       "      <td>3</td>\n",
       "      <td>4</td>\n",
       "      <td>\\n    Fraud ~ \\n    C(Profession) * \\n    I(In...</td>\n",
       "      <td>6</td>\n",
       "      <td>0.5</td>\n",
       "    </tr>\n",
       "    <tr>\n",
       "      <th>48</th>\n",
       "      <td>0.521000</td>\n",
       "      <td>0.527916</td>\n",
       "      <td>testing</td>\n",
       "      <td>4</td>\n",
       "      <td>4</td>\n",
       "      <td>\\n    Fraud ~ \\n    C(Profession) * \\n    I(In...</td>\n",
       "      <td>6</td>\n",
       "      <td>0.5</td>\n",
       "    </tr>\n",
       "    <tr>\n",
       "      <th>49</th>\n",
       "      <td>0.504500</td>\n",
       "      <td>0.501870</td>\n",
       "      <td>testing</td>\n",
       "      <td>5</td>\n",
       "      <td>4</td>\n",
       "      <td>\\n    Fraud ~ \\n    C(Profession) * \\n    I(In...</td>\n",
       "      <td>6</td>\n",
       "      <td>0.5</td>\n",
       "    </tr>\n",
       "  </tbody>\n",
       "</table>\n",
       "</div>"
      ],
      "text/plain": [
       "    accuracy   roc_auc  from_set  fold_id  model  \\\n",
       "0   0.513875  0.519780  training        1      0   \n",
       "1   0.510500  0.514585  training        2      0   \n",
       "2   0.515750  0.521852  training        3      0   \n",
       "3   0.515500  0.515066  training        4      0   \n",
       "4   0.516625  0.520080  training        5      0   \n",
       "5   0.518000  0.512652   testing        1      0   \n",
       "6   0.508500  0.519114   testing        2      0   \n",
       "7   0.500000  0.501801   testing        3      0   \n",
       "8   0.515000  0.529791   testing        4      0   \n",
       "9   0.507500  0.509905   testing        5      0   \n",
       "10  0.514000  0.519777  training        1      1   \n",
       "11  0.510250  0.514946  training        2      1   \n",
       "12  0.514000  0.522304  training        3      1   \n",
       "13  0.510000  0.518004  training        4      1   \n",
       "14  0.517250  0.520080  training        5      1   \n",
       "15  0.517500  0.512069   testing        1      1   \n",
       "16  0.521000  0.525854   testing        2      1   \n",
       "17  0.504500  0.497654   testing        3      1   \n",
       "18  0.512000  0.512197   testing        4      1   \n",
       "19  0.511000  0.509905   testing        5      1   \n",
       "20  0.514000  0.522628  training        1      2   \n",
       "21  0.515250  0.521187  training        2      2   \n",
       "22  0.517125  0.526942  training        3      2   \n",
       "23  0.513625  0.519942  training        4      2   \n",
       "24  0.518250  0.526145  training        5      2   \n",
       "25  0.508000  0.518063   testing        1      2   \n",
       "26  0.517000  0.513091   testing        2      2   \n",
       "27  0.504000  0.510806   testing        3      2   \n",
       "28  0.523000  0.529094   testing        4      2   \n",
       "29  0.497500  0.498396   testing        5      2   \n",
       "30  0.514625  0.520876  training        1      3   \n",
       "31  0.510000  0.515170  training        2      3   \n",
       "32  0.517875  0.522717  training        3      3   \n",
       "33  0.516625  0.519002  training        4      3   \n",
       "34  0.517125  0.519541  training        5      3   \n",
       "35  0.515000  0.508622   testing        1      3   \n",
       "36  0.525000  0.525311   testing        2      3   \n",
       "37  0.502000  0.495261   testing        3      3   \n",
       "38  0.516500  0.512807   testing        4      3   \n",
       "39  0.509000  0.509302   testing        5      3   \n",
       "40  0.514250  0.522945  training        1      4   \n",
       "41  0.513375  0.521524  training        2      4   \n",
       "42  0.519375  0.524607  training        3      4   \n",
       "43  0.516500  0.520441  training        4      4   \n",
       "44  0.517500  0.525943  training        5      4   \n",
       "45  0.510500  0.520472   testing        1      4   \n",
       "46  0.518000  0.515006   testing        2      4   \n",
       "47  0.508000  0.515320   testing        3      4   \n",
       "48  0.521000  0.527916   testing        4      4   \n",
       "49  0.504500  0.501870   testing        5      4   \n",
       "\n",
       "                                              formula  num_coefs  threshold  \n",
       "0   \\n    Fraud ~ \\n    C(Profession) + \\n    Inco...          4        0.5  \n",
       "1   \\n    Fraud ~ \\n    C(Profession) + \\n    Inco...          4        0.5  \n",
       "2   \\n    Fraud ~ \\n    C(Profession) + \\n    Inco...          4        0.5  \n",
       "3   \\n    Fraud ~ \\n    C(Profession) + \\n    Inco...          4        0.5  \n",
       "4   \\n    Fraud ~ \\n    C(Profession) + \\n    Inco...          4        0.5  \n",
       "5   \\n    Fraud ~ \\n    C(Profession) + \\n    Inco...          4        0.5  \n",
       "6   \\n    Fraud ~ \\n    C(Profession) + \\n    Inco...          4        0.5  \n",
       "7   \\n    Fraud ~ \\n    C(Profession) + \\n    Inco...          4        0.5  \n",
       "8   \\n    Fraud ~ \\n    C(Profession) + \\n    Inco...          4        0.5  \n",
       "9   \\n    Fraud ~ \\n    C(Profession) + \\n    Inco...          4        0.5  \n",
       "10  \\n    Fraud ~ \\n    C(Profession) * \\n    Inco...          6        0.5  \n",
       "11  \\n    Fraud ~ \\n    C(Profession) * \\n    Inco...          6        0.5  \n",
       "12  \\n    Fraud ~ \\n    C(Profession) * \\n    Inco...          6        0.5  \n",
       "13  \\n    Fraud ~ \\n    C(Profession) * \\n    Inco...          6        0.5  \n",
       "14  \\n    Fraud ~ \\n    C(Profession) * \\n    Inco...          6        0.5  \n",
       "15  \\n    Fraud ~ \\n    C(Profession) * \\n    Inco...          6        0.5  \n",
       "16  \\n    Fraud ~ \\n    C(Profession) * \\n    Inco...          6        0.5  \n",
       "17  \\n    Fraud ~ \\n    C(Profession) * \\n    Inco...          6        0.5  \n",
       "18  \\n    Fraud ~ \\n    C(Profession) * \\n    Inco...          6        0.5  \n",
       "19  \\n    Fraud ~ \\n    C(Profession) * \\n    Inco...          6        0.5  \n",
       "20  \\n    Fraud ~ \\n    C(Profession) * \\n    I(In...          6        0.5  \n",
       "21  \\n    Fraud ~ \\n    C(Profession) * \\n    I(In...          6        0.5  \n",
       "22  \\n    Fraud ~ \\n    C(Profession) * \\n    I(In...          6        0.5  \n",
       "23  \\n    Fraud ~ \\n    C(Profession) * \\n    I(In...          6        0.5  \n",
       "24  \\n    Fraud ~ \\n    C(Profession) * \\n    I(In...          6        0.5  \n",
       "25  \\n    Fraud ~ \\n    C(Profession) * \\n    I(In...          6        0.5  \n",
       "26  \\n    Fraud ~ \\n    C(Profession) * \\n    I(In...          6        0.5  \n",
       "27  \\n    Fraud ~ \\n    C(Profession) * \\n    I(In...          6        0.5  \n",
       "28  \\n    Fraud ~ \\n    C(Profession) * \\n    I(In...          6        0.5  \n",
       "29  \\n    Fraud ~ \\n    C(Profession) * \\n    I(In...          6        0.5  \n",
       "30  \\n    Fraud ~ \\n    C(Profession) * \\n    I(In...          6        0.5  \n",
       "31  \\n    Fraud ~ \\n    C(Profession) * \\n    I(In...          6        0.5  \n",
       "32  \\n    Fraud ~ \\n    C(Profession) * \\n    I(In...          6        0.5  \n",
       "33  \\n    Fraud ~ \\n    C(Profession) * \\n    I(In...          6        0.5  \n",
       "34  \\n    Fraud ~ \\n    C(Profession) * \\n    I(In...          6        0.5  \n",
       "35  \\n    Fraud ~ \\n    C(Profession) * \\n    I(In...          6        0.5  \n",
       "36  \\n    Fraud ~ \\n    C(Profession) * \\n    I(In...          6        0.5  \n",
       "37  \\n    Fraud ~ \\n    C(Profession) * \\n    I(In...          6        0.5  \n",
       "38  \\n    Fraud ~ \\n    C(Profession) * \\n    I(In...          6        0.5  \n",
       "39  \\n    Fraud ~ \\n    C(Profession) * \\n    I(In...          6        0.5  \n",
       "40  \\n    Fraud ~ \\n    C(Profession) * \\n    I(In...          6        0.5  \n",
       "41  \\n    Fraud ~ \\n    C(Profession) * \\n    I(In...          6        0.5  \n",
       "42  \\n    Fraud ~ \\n    C(Profession) * \\n    I(In...          6        0.5  \n",
       "43  \\n    Fraud ~ \\n    C(Profession) * \\n    I(In...          6        0.5  \n",
       "44  \\n    Fraud ~ \\n    C(Profession) * \\n    I(In...          6        0.5  \n",
       "45  \\n    Fraud ~ \\n    C(Profession) * \\n    I(In...          6        0.5  \n",
       "46  \\n    Fraud ~ \\n    C(Profession) * \\n    I(In...          6        0.5  \n",
       "47  \\n    Fraud ~ \\n    C(Profession) * \\n    I(In...          6        0.5  \n",
       "48  \\n    Fraud ~ \\n    C(Profession) * \\n    I(In...          6        0.5  \n",
       "49  \\n    Fraud ~ \\n    C(Profession) * \\n    I(In...          6        0.5  "
      ]
     },
     "execution_count": 58,
     "metadata": {},
     "output_type": "execute_result"
    }
   ],
   "source": [
    "cv_results"
   ]
  },
  {
   "cell_type": "markdown",
   "id": "290e486d-04a3-4917-935c-d1fd09f1a54e",
   "metadata": {},
   "source": [
    "### Review Model Results - Average of Folds"
   ]
  },
  {
   "cell_type": "markdown",
   "id": "80ce7aff-a2ad-4428-a24e-1b993c1bf9a3",
   "metadata": {},
   "source": [
    "#### All Models w/ Highest Accuracy on the Testing Dataset"
   ]
  },
  {
   "cell_type": "code",
   "execution_count": 59,
   "id": "2ff07d9b-28ad-4f65-a1a3-fb433ec913ac",
   "metadata": {},
   "outputs": [
    {
     "data": {
      "text/html": [
       "<div>\n",
       "<style scoped>\n",
       "    .dataframe tbody tr th:only-of-type {\n",
       "        vertical-align: middle;\n",
       "    }\n",
       "\n",
       "    .dataframe tbody tr th {\n",
       "        vertical-align: top;\n",
       "    }\n",
       "\n",
       "    .dataframe thead th {\n",
       "        text-align: right;\n",
       "    }\n",
       "</style>\n",
       "<table border=\"1\" class=\"dataframe\">\n",
       "  <thead>\n",
       "    <tr style=\"text-align: right;\">\n",
       "      <th></th>\n",
       "      <th>model</th>\n",
       "      <th>accuracy</th>\n",
       "      <th>roc_auc</th>\n",
       "      <th>num_coefs</th>\n",
       "    </tr>\n",
       "  </thead>\n",
       "  <tbody>\n",
       "    <tr>\n",
       "      <th>3</th>\n",
       "      <td>3</td>\n",
       "      <td>0.5135</td>\n",
       "      <td>0.510261</td>\n",
       "      <td>6</td>\n",
       "    </tr>\n",
       "    <tr>\n",
       "      <th>1</th>\n",
       "      <td>1</td>\n",
       "      <td>0.5132</td>\n",
       "      <td>0.511536</td>\n",
       "      <td>6</td>\n",
       "    </tr>\n",
       "    <tr>\n",
       "      <th>4</th>\n",
       "      <td>4</td>\n",
       "      <td>0.5124</td>\n",
       "      <td>0.516117</td>\n",
       "      <td>6</td>\n",
       "    </tr>\n",
       "    <tr>\n",
       "      <th>2</th>\n",
       "      <td>2</td>\n",
       "      <td>0.5099</td>\n",
       "      <td>0.513890</td>\n",
       "      <td>6</td>\n",
       "    </tr>\n",
       "    <tr>\n",
       "      <th>0</th>\n",
       "      <td>0</td>\n",
       "      <td>0.5098</td>\n",
       "      <td>0.514653</td>\n",
       "      <td>4</td>\n",
       "    </tr>\n",
       "  </tbody>\n",
       "</table>\n",
       "</div>"
      ],
      "text/plain": [
       "   model  accuracy   roc_auc  num_coefs\n",
       "3      3    0.5135  0.510261          6\n",
       "1      1    0.5132  0.511536          6\n",
       "4      4    0.5124  0.516117          6\n",
       "2      2    0.5099  0.513890          6\n",
       "0      0    0.5098  0.514653          4"
      ]
     },
     "execution_count": 59,
     "metadata": {},
     "output_type": "execute_result"
    }
   ],
   "source": [
    "cv_results.loc[(cv_results['from_set'] == 'testing') & \n",
    "               (cv_results['accuracy'] < 1.0) & \n",
    "               (cv_results['roc_auc'] < 1.0)].\\\n",
    "           groupby('model').\\\n",
    "           aggregate({'accuracy': 'mean', \n",
    "                      'roc_auc': 'mean', \n",
    "                      'num_coefs': 'first'}).\\\n",
    "           reset_index().\\\n",
    "           sort_values(by='accuracy', ascending=False)"
   ]
  },
  {
   "cell_type": "markdown",
   "id": "745d917c-e938-445d-939f-31521f7d267f",
   "metadata": {},
   "source": [
    "### Model Selection\n",
    "* The selected model, with an accuracy of 51.35% and an ROC AUC of 51.03%, performs just slightly above random guessing, suggesting limited practical utility for predictive purposes. The model includes six coefficients, but only one variable, the profession category “Engineer,” is statistically significant. This variable has a coefficient of -0.1740 (p-value = 0.0075), indicating a small negative association with the target variable. However, the effect size and overall model performance remain weak, as reflected in the near-random accuracy and ROC AUC values. The inclusion of higher-order terms of income (e.g., cubic transformations) did not yield statistically significant results, further indicating that this model lacks predictive robustness. In practical applications, this model would be unreliable for actionable insights or decision-making due to its low discriminative power."
   ]
  },
  {
   "cell_type": "code",
   "execution_count": 60,
   "id": "3cd2e185-3263-4ab2-9193-cb3a8252eb45",
   "metadata": {},
   "outputs": [
    {
     "name": "stdout",
     "output_type": "stream",
     "text": [
      "Optimization terminated successfully.\n",
      "         Current function value: 0.692566\n",
      "         Iterations 3\n"
     ]
    }
   ],
   "source": [
    "best_model = smf.logit(formula=formulas[3], \n",
    "                       data=df_copy).fit()"
   ]
  },
  {
   "cell_type": "code",
   "execution_count": 61,
   "id": "496b4536-d2a4-47b6-aa6f-199de7207f51",
   "metadata": {},
   "outputs": [
    {
     "data": {
      "text/plain": [
       "Intercept                                   7.043557e-02\n",
       "C(Profession)[T.ENGINEER]                  -1.739608e-01\n",
       "C(Profession)[T.LAWYER]                    -8.981707e-02\n",
       "I(Income ** 3)                              4.694737e-17\n",
       "C(Profession)[T.ENGINEER]:I(Income ** 3)    9.716693e-17\n",
       "C(Profession)[T.LAWYER]:I(Income ** 3)      4.307758e-17\n",
       "dtype: float64"
      ]
     },
     "execution_count": 61,
     "metadata": {},
     "output_type": "execute_result"
    }
   ],
   "source": [
    "best_model.params"
   ]
  },
  {
   "cell_type": "code",
   "execution_count": 62,
   "id": "c16b042d-e430-421a-822d-29c83b4a16fa",
   "metadata": {},
   "outputs": [
    {
     "data": {
      "text/plain": [
       "Intercept                                   False\n",
       "C(Profession)[T.ENGINEER]                    True\n",
       "C(Profession)[T.LAWYER]                     False\n",
       "I(Income ** 3)                              False\n",
       "C(Profession)[T.ENGINEER]:I(Income ** 3)    False\n",
       "C(Profession)[T.LAWYER]:I(Income ** 3)      False\n",
       "dtype: bool"
      ]
     },
     "execution_count": 62,
     "metadata": {},
     "output_type": "execute_result"
    }
   ],
   "source": [
    "best_model.pvalues < 0.05"
   ]
  },
  {
   "cell_type": "code",
   "execution_count": 63,
   "id": "fbe46187-2cc0-4bbc-8d8c-0138316154d9",
   "metadata": {},
   "outputs": [
    {
     "data": {
      "text/plain": [
       "C(Profession)[T.ENGINEER]   -0.173961\n",
       "dtype: float64"
      ]
     },
     "execution_count": 63,
     "metadata": {},
     "output_type": "execute_result"
    }
   ],
   "source": [
    "best_model.params[best_model.pvalues < 0.05].sort_values(ascending=False)"
   ]
  },
  {
   "cell_type": "code",
   "execution_count": 64,
   "id": "39bf9b82-a5e4-4638-8f64-78b4e927fd0a",
   "metadata": {},
   "outputs": [
    {
     "data": {
      "image/png": "[encoded data removed]",
      "text/plain": [
       "<Figure size 1000x400 with 1 Axes>"
      ]
     },
     "metadata": {},
     "output_type": "display_data"
    },
    {
     "name": "stdout",
     "output_type": "stream",
     "text": [
      "\n",
      "--- statistically significant variables ---\n",
      "variable: C(Profession)[T.ENGINEER], coefficient: -0.1740, std err: 0.0651, p-value: 0.0075, direction: negative\n"
     ]
    }
   ],
   "source": [
    "my_coefplot(best_model)"
   ]
  },
  {
   "cell_type": "markdown",
   "id": "8df15153-eaf4-42a6-a852-0eddc0c0cd38",
   "metadata": {},
   "source": [
    "### Save Model - Usage in Inference Application"
   ]
  },
  {
   "cell_type": "code",
   "execution_count": 66,
   "id": "3f691267-8174-4bec-ae35-ccfaf235d3f1",
   "metadata": {},
   "outputs": [],
   "source": [
    "import pickle"
   ]
  },
  {
   "cell_type": "code",
   "execution_count": 67,
   "id": "754d4dd8-4ec9-4481-8a62-9dbd8a029125",
   "metadata": {},
   "outputs": [],
   "source": [
    "with open('fraud_detection_logit_model.pkl', 'wb') as file:\n",
    "    pickle.dump(best_model, file)"
   ]
  },
  {
   "cell_type": "markdown",
   "id": "054553ee-249e-4475-96dc-5b56d86c2a4b",
   "metadata": {},
   "source": [
    "### Load Model - Usage in Inference Application"
   ]
  },
  {
   "cell_type": "code",
   "execution_count": 68,
   "id": "19bae0f2-e36c-488b-b964-31ad57e60048",
   "metadata": {},
   "outputs": [],
   "source": [
    "with open('fraud_detection_logit_model.pkl', 'rb') as file:\n",
    "    loaded_model = pickle.load(file)"
   ]
  },
  {
   "cell_type": "markdown",
   "id": "56fdd4bd-b18b-4701-a0c4-7685d2bd4f45",
   "metadata": {},
   "source": [
    "### Perform Inference - Validate Production Model"
   ]
  },
  {
   "cell_type": "code",
   "execution_count": 75,
   "id": "53bddd9d-d495-4a25-8a03-340e5524250b",
   "metadata": {},
   "outputs": [],
   "source": [
    "sample_data = pd.DataFrame({\n",
    "    'Profession': ['DOCTOR'],\n",
    "    'Income': [80000]\n",
    "})"
   ]
  },
  {
   "cell_type": "code",
   "execution_count": 76,
   "id": "3f3e49f9-c671-4d1e-9908-7a0d8d50584e",
   "metadata": {},
   "outputs": [
    {
     "data": {
      "text/plain": [
       "0    0.523601\n",
       "dtype: float64"
      ]
     },
     "execution_count": 76,
     "metadata": {},
     "output_type": "execute_result"
    }
   ],
   "source": [
    "loaded_model.predict(sample_data)"
   ]
  }
 ],
 "metadata": {
  "kernelspec": {
   "display_name": "Python 3 (ipykernel)",
   "language": "python",
   "name": "python3"
  },
  "language_info": {
   "codemirror_mode": {
    "name": "ipython",
    "version": 3
   },
   "file_extension": ".py",
   "mimetype": "text/x-python",
   "name": "python",
   "nbconvert_exporter": "python",
   "pygments_lexer": "ipython3",
   "version": "3.12.7"
  }
 },
 "nbformat": 4,
 "nbformat_minor": 5
}
